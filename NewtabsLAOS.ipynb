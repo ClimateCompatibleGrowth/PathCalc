{
 "cells": [
  {
   "cell_type": "code",
   "execution_count": null,
   "id": "51ee7950-e3e3-4c6a-a33b-dca259dd643c",
   "metadata": {},
   "outputs": [],
   "source": [
    "import pandas as pd\n",
    "import numpy as np\n",
    "import panel as pn\n",
    "pn.extension('tabulator')\n",
    "import plotly.express as px\n",
    "pn.extension('plotly')\n",
    "\n",
    "import hvplot.pandas\n",
    "#There should be sliders for avoid, shift, transform, cost, etc"
   ]
  },
  {
   "cell_type": "code",
   "execution_count": null,
   "id": "9a62b59d-433e-4687-9858-84a0770dac70",
   "metadata": {},
   "outputs": [],
   "source": [
    "# Load data for emission\n",
    "df = pd.read_excel(\"FILE NAME\")\n"
   ]
  },
  {
   "cell_type": "code",
   "execution_count": null,
   "id": "74c2f7c6-f577-4729-8862-b37b895e825b",
   "metadata": {},
   "outputs": [],
   "source": [
    "df.loc[df['TECHNOLOGY'] == 'TRACARDSLBIO', 'TECHNOLOGY'] = 'Diesel cars With Blending option'\n",
    "df.loc[df['TECHNOLOGY'] == 'TRAMCYGAS',    'TECHNOLOGY'] = 'Motorcycles Gasoline'\n",
    "df.loc[df['TECHNOLOGY'] == 'TRACARGASBIO', 'TECHNOLOGY'] = 'Gasoline Cars With blending option'\n",
    "df.loc[df['TECHNOLOGY'] == 'TRABUSDSLBIO', 'TECHNOLOGY'] = 'Diesel and Bio Diesel Busses'\n",
    "df.loc[df['TECHNOLOGY'] == 'TRALDVDSLBIO', 'TECHNOLOGY'] = 'LDV Diesel & Bio Diesel'\n",
    "df.loc[df['TECHNOLOGY'] == 'TRAHDVDSLBIO', 'TECHNOLOGY'] = 'HDV Diesel & Bio Diesel'\n",
    "df.loc[df['TECHNOLOGY'] == 'TRAPAIRJETBIO', 'TECHNOLOGY'] = 'Aviation Passenger on JET/ABF'\n",
    "df.loc[df['TECHNOLOGY'] == 'TRAFAIRJETBIO', 'TECHNOLOGY'] = 'Aviation Frieght on JET/ABF'\n",
    "df.loc[df['TECHNOLOGY'] == 'TRACARGASHYB', 'TECHNOLOGY'] = 'Gasoline Hybrid cars'\n",
    "\n",
    "# Save the modified DataFrame back to Excel\n",
    "df.to_excel(\"FILENAME\", index=False)\n",
    "\n"
   ]
  },
  {
   "cell_type": "code",
   "execution_count": null,
   "id": "daa57f27-cfdd-43ba-9da8-a437bb785bb6",
   "metadata": {},
   "outputs": [],
   "source": [
    "#Load Data for Demand and fuel based demand\n",
    "df2 = pd.read_excel('FILENAME', sheet_name='Demand')\n",
    "\n"
   ]
  },
  {
   "cell_type": "code",
   "execution_count": null,
   "id": "e276cdb3-7848-424f-940e-14cfba3fd110",
   "metadata": {},
   "outputs": [],
   "source": [
    "#Load Data for Demand and fuel based demand\n",
    "df3 = pd.read_excel(\"/Users/biswajitdas/Documents/CCG/CO2_Dashboard/Laos/Vignesh folder on may6/Energysheet.xlsx\",sheet_name='Freight')\n"
   ]
  },
  {
   "cell_type": "code",
   "execution_count": null,
   "id": "f20b6eb0-2c5b-48e8-9555-13b65a8858bd",
   "metadata": {},
   "outputs": [],
   "source": [
    "df2.loc[df2['PASSENGER'] == 'TRAMCYELC', 'PASSENGER'] = 'Motorcycles'\n",
    "df2.loc[df2['PASSENGER'] == 'TRACARDSLBIO', 'PASSENGER'] = 'Cars'\n",
    "df2.loc[df2['PASSENGER'] == 'TRACARGASBIO', 'PASSENGER'] = 'Cars'\n",
    "df2.loc[df2['PASSENGER'] == 'TRABUSDSLBIO', 'PASSENGER'] = 'Bus'\n",
    "df2.loc[df2['PASSENGER'] == 'TRACARDSLBIO', 'PASSENGER'] = 'Cars'\n",
    "df2.loc[df2['PASSENGER'] == 'TRACARGASHYB', 'PASSENGER'] = 'Cars'\n",
    "df2.loc[df2['PASSENGER'] == 'TRACARELC', 'PASSENGER'] = 'Cars'\n",
    "df2.loc[df2['PASSENGER'] == 'TRAMCYGAS', 'PASSENGER'] = 'Motorcycles'\n",
    "df2.loc[df2['PASSENGER'] == 'TRAPAIRH2', 'PASSENGER'] = 'Air'\n",
    "df2.loc[df2['PASSENGER'] == 'TRAPRAIELC', 'PASSENGER'] = 'Rail'\n",
    "df2.loc[df2['PASSENGER'] == 'TRAPAIRJETBIO', 'PASSENGER'] = 'Air'\n",
    "df2.loc[df2['PASSENGER'] == 'TRABUSH2', 'PASSENGER'] = 'Bus'\n",
    "df2.loc[df2['PASSENGER'] == 'TRABUSELC', 'PASSENGER'] = 'Bus'\n",
    "df2.loc[df2['PASSENGER'] == 'TRACARH2', 'PASSENGER'] = 'Cars'\n",
    "\n",
    "df2.to_excel(\"FILENAME\", index=False)\n"
   ]
  },
  {
   "cell_type": "code",
   "execution_count": null,
   "id": "85265d01-a03f-4f3e-9cd2-866a62db3c73",
   "metadata": {},
   "outputs": [],
   "source": [
    "df3.loc[df3['TECHNOLOGY'] == 'TRALDVDSLBIO', 'TECHNOLOGY'] = 'LDV'\n",
    "df3.loc[df3['TECHNOLOGY'] == 'TRALDVELC', 'TECHNOLOGY'] = 'LDV'\n",
    "df3.loc[df3['TECHNOLOGY'] == 'TRALDVH2', 'TECHNOLOGY'] = 'LDV'\n",
    "df3.loc[df3['TECHNOLOGY'] == 'TRAHDVDSLBIO', 'TECHNOLOGY'] = 'HDV'\n",
    "df3.loc[df3['TECHNOLOGY'] == 'TRAHDVELC', 'TECHNOLOGY'] = 'HDV'\n",
    "df3.loc[df3['TECHNOLOGY'] == 'TRAHDVH2', 'TECHNOLOGY'] = 'HDV'\n",
    "df3.loc[df3['TECHNOLOGY'] == 'TRAFRAIELC', 'TECHNOLOGY'] = 'Rail freight'\n",
    "df3.loc[df3['TECHNOLOGY'] == 'TRAFAIRH2', 'TECHNOLOGY'] = 'Air freight'\n",
    "df3.loc[df3['TECHNOLOGY'] == 'TRAFAIRJETBIO', 'TECHNOLOGY'] = 'Air freight'\n",
    "\n",
    "df3.to_excel(\"FILENAME\",sheet_name='Freight', index=False)\n"
   ]
  },
  {
   "cell_type": "code",
   "execution_count": null,
   "id": "44574e34-fe99-47d7-8eca-6f16c9281120",
   "metadata": {},
   "outputs": [],
   "source": [
    "# Function to split scenario into individual levers\n",
    "def split_scenario(scenario):\n",
    "    scenario_str = str(scenario).zfill(5)  # Ensure scenario is a 5-digit string\n",
    "    return [int(scenario_str[i]) for i in range(5)]\n",
    "\n",
    "# Apply the function to the 'Scenario' column and create new columns\n",
    "df[['Avoid', 'Shift', 'Transform', 'Improve', 'Cost']] = df['Scenario'].apply(split_scenario).apply(pd.Series)\n",
    "df\n"
   ]
  },
  {
   "cell_type": "code",
   "execution_count": null,
   "id": "e5b2d5af-584b-47f8-bffe-33f26d2bc009",
   "metadata": {},
   "outputs": [],
   "source": [
    "# Function to split scenario into individual levers\n",
    "def split_scenario(scenario):\n",
    "    scenario_str = str(scenario).zfill(5)  # Ensure scenario is a 5-digit string\n",
    "    return [int(scenario_str[i]) for i in range(5)]\n",
    "\n",
    "# Apply the function to the 'Scenario' column and create new columns\n",
    "df2[['Avoid', 'Shift', 'Transform', 'Improve', 'Cost']] = df['Scenario'].apply(split_scenario).apply(pd.Series)\n",
    "df2\n"
   ]
  },
  {
   "cell_type": "code",
   "execution_count": null,
   "id": "a8c18d35-914f-4610-b976-59bda86718c5",
   "metadata": {},
   "outputs": [],
   "source": [
    "# Function to split scenario into individual levers\n",
    "def split_scenario(scenario):\n",
    "    scenario_str = str(scenario).zfill(5)  # Ensure scenario is a 5-digit string\n",
    "    return [int(scenario_str[i]) for i in range(5)]\n",
    "\n",
    "# Apply the function to the 'Scenario' column and create new columns\n",
    "df3[['Avoid', 'Shift', 'Transform', 'Improve', 'Cost']] = df['Scenario'].apply(split_scenario).apply(pd.Series)\n",
    "df3\n"
   ]
  },
  {
   "cell_type": "code",
   "execution_count": null,
   "id": "d1806321-e150-4793-8ea9-c49e0f750bf8",
   "metadata": {},
   "outputs": [],
   "source": [
    "# Fill NaN values with 0\n",
    "df3.fillna(0, inplace=True)"
   ]
  },
  {
   "cell_type": "code",
   "execution_count": null,
   "id": "bef147ce-7383-43d1-9de2-3fa185490dca",
   "metadata": {},
   "outputs": [],
   "source": [
    "# Fill NaN values with 0\n",
    "df2.fillna(0, inplace=True)"
   ]
  },
  {
   "cell_type": "code",
   "execution_count": null,
   "id": "0d4771bb-d794-47f8-a0be-0de0fd5f5c1f",
   "metadata": {},
   "outputs": [],
   "source": [
    "# Fill NaN values with 0\n",
    "df.fillna(0, inplace=True)"
   ]
  },
  {
   "cell_type": "code",
   "execution_count": null,
   "id": "69332b05-a4ad-4c31-a917-810b342f754a",
   "metadata": {},
   "outputs": [],
   "source": [
    "\n",
    "\n",
    "\n",
    "# Create Widgets for Interaction\n",
    "levers = ['Avoid', 'Shift', 'Transform', 'Improve', 'Cost']\n",
    "ambition_levels = [1, 2, 3, 4]\n",
    "\n",
    "widgets = {lever: pn.widgets.DiscreteSlider(name=lever, options=ambition_levels, value=1) for lever in levers}\n",
    "\n"
   ]
  },
  {
   "cell_type": "code",
   "execution_count": null,
   "id": "d1a99ed7-bb36-4bc8-a069-8a4139882755",
   "metadata": {},
   "outputs": [],
   "source": [
    "\n",
    "\n",
    "# Update plot function\n",
    "def update_plot1(avoid, shift, transform, improve, cost):\n",
    "    # Filter data based on widget values\n",
    "    filtered_data1 = df[\n",
    "        (df['Avoid'] == avoid) & \n",
    "        (df['Shift'] == shift) & \n",
    "        (df['Transform'] == transform) & \n",
    "        (df['Improve'] == improve) & \n",
    "        (df['Cost'] == cost)\n",
    "    ]\n",
    "    \n",
    "    # Check if filtered_data is empty\n",
    "    if filtered_data1.empty:\n",
    "        return pn.pane.Markdown(\"## No data available for the selected combination of lever values.\")\n",
    "    \n",
    "    # Create a plot using Plotly\n",
    "    fig1 = px.area(filtered_data1, x='YEAR', y='VALUE', color='TECHNOLOGY',\n",
    "                 title='Scenario Analysis', labels={'VALUE': 'Emissions in Mtons'})\n",
    "    return (fig1)\n",
    "    \n",
    "# Bind the update function to the widgets\n",
    "interactive_plot1 = pn.bind(update_plot1, \n",
    "                           avoid=widgets['Avoid'], \n",
    "                           shift=widgets['Shift'], \n",
    "                           transform=widgets['Transform'], \n",
    "                           improve=widgets['Improve'], \n",
    "                           cost=widgets['Cost'])\n",
    "df\n",
    "\n",
    "\n"
   ]
  },
  {
   "cell_type": "code",
   "execution_count": null,
   "id": "c6680a8b-934b-4b84-b684-ec10fb9e3318",
   "metadata": {},
   "outputs": [],
   "source": [
    "\n",
    "# Update plot function\n",
    "def update_plot2(avoid, shift, transform, improve, cost):\n",
    "    # Filter data based on widget values\n",
    "    filtered_data2 = df2[\n",
    "        (df2['Avoid'] == avoid) & \n",
    "        (df2['Shift'] == shift) & \n",
    "        (df2['Transform'] == transform) & \n",
    "        (df2['Improve'] == improve) & \n",
    "        (df2['Cost'] == cost)\n",
    "    ]\n",
    "    \n",
    "    # Check if filtered_data is empty\n",
    "    if filtered_data2.empty:\n",
    "        return pn.pane.Markdown(\"## No data available for the selected combination of lever values.\")\n",
    "    \n",
    "    # Create a plot using Plotly\n",
    "    fig2 = px.area(filtered_data2, x='YEAR', y='VALUE', color='PASSENGER',\n",
    "                 title='Scenario Analysis', labels={'VALUE': 'Demand'})\n",
    "    \n",
    "    return fig2\n",
    "\n",
    "# Bind the update function to the widgets\n",
    "interactive_plot2 = pn.bind(update_plot2, \n",
    "                           avoid=widgets['Avoid'], \n",
    "                           shift=widgets['Shift'], \n",
    "                           transform=widgets['Transform'], \n",
    "                           improve=widgets['Improve'], \n",
    "                           cost=widgets['Cost'])\n",
    "\n",
    "\n",
    "\n"
   ]
  },
  {
   "cell_type": "code",
   "execution_count": null,
   "id": "7982e225-b12d-4e92-8b7a-320fc5395d7a",
   "metadata": {},
   "outputs": [],
   "source": [
    "\n",
    "def update_plot3(avoid, shift, transform, improve, cost):\n",
    "    # Filter data based on widget values\n",
    "    filtered_data3 = df3[\n",
    "        (df3['Avoid'] == avoid) & \n",
    "        (df3['Shift'] == shift) & \n",
    "        (df3['Transform'] == transform) & \n",
    "        (df3['Improve'] == improve) & \n",
    "        (df3['Cost'] == cost)\n",
    "        ]\n",
    "    \n",
    "    # Create a plot using Plotly\n",
    "    fig3 = px.area(filtered_data3, x='YEAR', y='VALUE', color='TECHNOLOGY',\n",
    "                 title='Scenario Analysis', labels={'VALUE': 'Demand'})\n",
    "    \n",
    "    return fig3\n",
    "\n",
    "# Bind the update function to the widgets\n",
    "interactive_plot3 = pn.bind(update_plot3, \n",
    "                           avoid=widgets['Avoid'], \n",
    "                           shift=widgets['Shift'], \n",
    "                           transform=widgets['Transform'], \n",
    "                           improve=widgets['Improve'], \n",
    "                           cost=widgets['Cost'])\n",
    "\n"
   ]
  },
  {
   "cell_type": "code",
   "execution_count": null,
   "id": "31662b06-5b8a-4aee-ae52-05f67efa400e",
   "metadata": {},
   "outputs": [],
   "source": [
    "tabs = pn.Tabs(\n",
    "    ('Transport', pn.Column(interactive_plot1,interactive_plot3)),\n",
    "    ('Power', pn.Column(interactive_plot2)),\n",
    "    ('Cost', pn.Column(interactive_plot2)),\n",
    "    ('Overview', pn.Column(interactive_plot1)),\n",
    "    ( 'Social & Infrastructure', pn.Column(interactive_plot1))\n",
    ")"
   ]
  },
  {
   "cell_type": "code",
   "execution_count": null,
   "id": "f84baf2b-54b3-430b-bcf7-b859a861ef81",
   "metadata": {},
   "outputs": [],
   "source": [
    "# Create the FastListTemplate\n",
    "template = pn.template.FastListTemplate(\n",
    "    title='Path Calculator Dashboard',\n",
    "    sidebar=[\n",
    "        pn.pane.Markdown(\"# Sustainable Pathways Calculator\"),\n",
    "        *widgets.values()  # Unpack the widgets and add them to the sidebar\n",
    "    ],\n",
    "    main=[\n",
    "        tabs  # Add the tabs to the main layout\n",
    "    ]\n",
    ")\n",
    "\n",
    "# Display the app\n",
    "template.servable()"
   ]
  }
 ],
 "metadata": {
  "kernelspec": {
   "display_name": "Python 3 (ipykernel)",
   "language": "python",
   "name": "python3"
  },
  "language_info": {
   "codemirror_mode": {
    "name": "ipython",
    "version": 3
   },
   "file_extension": ".py",
   "mimetype": "text/x-python",
   "name": "python",
   "nbconvert_exporter": "python",
   "pygments_lexer": "ipython3",
   "version": "3.12.1"
  }
 },
 "nbformat": 4,
 "nbformat_minor": 5
}
